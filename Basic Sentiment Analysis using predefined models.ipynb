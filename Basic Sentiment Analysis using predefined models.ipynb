{
 "cells": [
  {
   "cell_type": "markdown",
   "id": "a41c1a8e",
   "metadata": {},
   "source": [
    "# Predicting the sentiment of a sentence entered by the user using different predefined methods"
   ]
  },
  {
   "cell_type": "markdown",
   "id": "85dd3cd8",
   "metadata": {},
   "source": [
    "## Method 1: nltk vader SentimentIntensityAnalyzer"
   ]
  },
  {
   "cell_type": "code",
   "execution_count": 1,
   "id": "c3ecf52e",
   "metadata": {},
   "outputs": [],
   "source": [
    "import nltk"
   ]
  },
  {
   "cell_type": "code",
   "execution_count": 2,
   "id": "b142ccd4",
   "metadata": {},
   "outputs": [
    {
     "name": "stderr",
     "output_type": "stream",
     "text": [
      "[nltk_data] Downloading package vader_lexicon to\n",
      "[nltk_data]     /Users/prabhatm/nltk_data...\n",
      "[nltk_data]   Package vader_lexicon is already up-to-date!\n"
     ]
    },
    {
     "data": {
      "text/plain": [
       "True"
      ]
     },
     "execution_count": 2,
     "metadata": {},
     "output_type": "execute_result"
    }
   ],
   "source": [
    "nltk.download('vader_lexicon')"
   ]
  },
  {
   "cell_type": "code",
   "execution_count": 3,
   "id": "eb7a2256",
   "metadata": {},
   "outputs": [],
   "source": [
    "from nltk.sentiment.vader import SentimentIntensityAnalyzer"
   ]
  },
  {
   "cell_type": "code",
   "execution_count": 4,
   "id": "37634fcd",
   "metadata": {},
   "outputs": [],
   "source": [
    "SIA = SentimentIntensityAnalyzer()"
   ]
  },
  {
   "cell_type": "code",
   "execution_count": 5,
   "id": "6a8e08f4",
   "metadata": {},
   "outputs": [
    {
     "name": "stdout",
     "output_type": "stream",
     "text": [
      "Enter a sentence I really like programming using python\n"
     ]
    },
    {
     "data": {
      "text/plain": [
       "{'neg': 0.0, 'neu': 0.589, 'pos': 0.411, 'compound': 0.4201}"
      ]
     },
     "execution_count": 5,
     "metadata": {},
     "output_type": "execute_result"
    }
   ],
   "source": [
    "text = input('Enter a sentence ')\n",
    "SIA.polarity_scores(text)"
   ]
  },
  {
   "cell_type": "markdown",
   "id": "327d7705",
   "metadata": {},
   "source": [
    "## Method 2 : Using textblob"
   ]
  },
  {
   "cell_type": "code",
   "execution_count": 8,
   "id": "f5769151",
   "metadata": {},
   "outputs": [],
   "source": [
    "from textblob import TextBlob"
   ]
  },
  {
   "cell_type": "code",
   "execution_count": 12,
   "id": "77df36d4",
   "metadata": {},
   "outputs": [
    {
     "name": "stdout",
     "output_type": "stream",
     "text": [
      "Enter a sentence I really like programming using python\n"
     ]
    }
   ],
   "source": [
    "text = input('Enter a sentence ')\n",
    "sentence = TextBlob(text)"
   ]
  },
  {
   "cell_type": "code",
   "execution_count": 14,
   "id": "942cbb0a",
   "metadata": {},
   "outputs": [
    {
     "name": "stdout",
     "output_type": "stream",
     "text": [
      "Sentiment(polarity=0.2, subjectivity=0.2)\n"
     ]
    }
   ],
   "source": [
    "print(sentence.sentiment)"
   ]
  },
  {
   "cell_type": "code",
   "execution_count": null,
   "id": "97031180",
   "metadata": {},
   "outputs": [],
   "source": [
    "from transformers import pipeline\n",
    "classifier = pipeline('zero-shot-classification',\n",
    "                      model='facebook/bart-large-mnli')\n",
    "hypothesis_template = 'This text is about {}.'"
   ]
  },
  {
   "cell_type": "code",
   "execution_count": null,
   "id": "0006b375",
   "metadata": {},
   "outputs": [],
   "source": []
  }
 ],
 "metadata": {
  "kernelspec": {
   "display_name": "Python 3 (ipykernel)",
   "language": "python",
   "name": "python3"
  },
  "language_info": {
   "codemirror_mode": {
    "name": "ipython",
    "version": 3
   },
   "file_extension": ".py",
   "mimetype": "text/x-python",
   "name": "python",
   "nbconvert_exporter": "python",
   "pygments_lexer": "ipython3",
   "version": "3.9.7"
  }
 },
 "nbformat": 4,
 "nbformat_minor": 5
}
